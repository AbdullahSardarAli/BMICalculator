{
  "nbformat": 4,
  "nbformat_minor": 0,
  "metadata": {
    "colab": {
      "provenance": [],
      "authorship_tag": "ABX9TyOmxDMh5tdiwuDsRqegxftA",
      "include_colab_link": true
    },
    "kernelspec": {
      "name": "python3",
      "display_name": "Python 3"
    },
    "language_info": {
      "name": "python"
    }
  },
  "cells": [
    {
      "cell_type": "markdown",
      "metadata": {
        "id": "view-in-github",
        "colab_type": "text"
      },
      "source": [
        "<a href=\"https://colab.research.google.com/github/AbdullahSardarAli/BMICalculator/blob/main/ScoundProject.ipynb\" target=\"_parent\"><img src=\"https://colab.research.google.com/assets/colab-badge.svg\" alt=\"Open In Colab\"/></a>"
      ]
    },
    {
      "cell_type": "code",
      "execution_count": 14,
      "metadata": {
        "colab": {
          "base_uri": "https://localhost:8080/"
        },
        "id": "H4q9RlB2ED9Z",
        "outputId": "7d549000-1d1d-4328-98c4-452b477af5a8"
      },
      "outputs": [
        {
          "output_type": "stream",
          "name": "stdout",
          "text": [
            "what the weather today(sunny,rainy,cloudy)cloudy\n",
            "the weather is cloudy\n"
          ]
        }
      ],
      "source": [
        "# Projects\n",
        "# Project 1: Weather Suggestion App\n",
        "# Create a program that:\n",
        "\n",
        "# Asks the user for the current weather (e.g., sunny, rainy, cloudy).\n",
        "# Uses conditional statements to suggest an activity based on the weather.\n",
        "# First implement using if, elif and else\n",
        "# Then implements the ternary operator for concise decision-making.\n",
        "\n",
        "\n",
        "weather=input(\"what the weather today(sunny,rainy,cloudy)\").lower()\n",
        "if(weather == \"sunny\"):\n",
        "  print(\"ths weather is sunny\\ n\")\n",
        "elif(weather == \"rainy\"):\n",
        "  print(\"the weather is raint\")\n",
        "elif(weather == \"cloudy\"):\n",
        "  print(\"the weather is cloudy\")\n",
        "else:\n",
        "  print(\"i do not suggest the weather\")"
      ]
    },
    {
      "cell_type": "code",
      "source": [
        "# Develop a Python program that:\n",
        "\n",
        "# Accepts a numerical score from the user.\n",
        "# Uses if, elif, and else to determine the corresponding grade (A, B, C, F).\n",
        "# Includes nested conditions for advanced grading (e.g., adding \"+\" or \"-\" to the grade based on score ranges).\n",
        "\n",
        "\n",
        "marks = int(input(\"enter your marks  \"))\n",
        "if (marks >= 90 and marks <= 100):\n",
        "  print(f\"your grade is A+ and Marks {marks}\")\n",
        "elif(marks >80 and marks <=89):\n",
        "  print(f\"your grade is A and marks is {marks}\")\n",
        "elif(marks >=70 and marks <=79 ):\n",
        "  print(f\"your grade is B and marks is {marks}\")\n",
        "elif(marks >=60 and marks <=69):\n",
        "  print(f\"your grade is C and marks is {marks}\")\n",
        "elif(marks >=50 and marks <=59):\n",
        "  print(f\"your grade is D and marks is {marks}\")\n",
        "else:\n",
        "  print(\"your are are faild\")"
      ],
      "metadata": {
        "colab": {
          "base_uri": "https://localhost:8080/"
        },
        "id": "NZ6TRWXYHobv",
        "outputId": "8e44ec7d-b78f-4f61-8b93-380e8ec38aca"
      },
      "execution_count": 22,
      "outputs": [
        {
          "output_type": "stream",
          "name": "stdout",
          "text": [
            "enter your marks  32\n",
            "your are are faild\n"
          ]
        }
      ]
    },
    {
      "cell_type": "code",
      "source": [
        "# Project 3: Logical Rewards System\n",
        "# A big reward is given if the player scores more than 100 and collects all keys.\n",
        "# A small reward is given if the player collects at least one key or completes the level.\n",
        "# Use logical operators (and, or) to implement the conditions.\n",
        "\n",
        "score =int(input(\"enter your score\"))\n",
        "all_key_colle=input(\"Did the player is complete the all score (yes,no)\").lower()==\"yes\"\n",
        "keyCollect = input(\"how many key collect the player(yes,no)\").lower()==\"yes\"\n",
        "level_complete = input(\"Did the player is complete the level\")\n",
        "if(score >= 100 and all_key_colle):\n",
        "  print(\"big reward\")\n",
        "elif(keyCollect >=1 or level_complete):\n",
        "  print(\"small reward\")\n",
        "else:\n",
        "  print(\"no reward\")\n",
        "\n"
      ],
      "metadata": {
        "colab": {
          "base_uri": "https://localhost:8080/"
        },
        "id": "xg1YJ39wLhNz",
        "outputId": "b7075cde-e331-45fb-edd9-fc5d1dd0a2b2"
      },
      "execution_count": 25,
      "outputs": [
        {
          "output_type": "stream",
          "name": "stdout",
          "text": [
            "enter your score1000\n",
            "Did the player is complete the all score (yes,no)yes\n",
            "how many key collect the player5\n",
            "Did the player is complete the level3\n",
            "big reward\n"
          ]
        }
      ]
    },
    {
      "cell_type": "code",
      "source": [
        "# Project 1: Squaring a List\n",
        "# Build a program that:\n",
        "\n",
        "# Initialize an empty list called squares to store the results.\n",
        "# Use a for loop to iterate through numbers from 1 to 5.\n",
        "# For each number, calculate its square and append it to the squares list.\n",
        "# After the loop, print the squares list to show the results.\n",
        "\n",
        "\n",
        "squares = []\n",
        "for i in range(1,5):\n",
        "  square = i**2\n",
        "  squares.append(square)\n",
        "\n",
        "print(\"the square is \" ,squares)"
      ],
      "metadata": {
        "colab": {
          "base_uri": "https://localhost:8080/"
        },
        "id": "4KeRvu0ETbk3",
        "outputId": "a52e5b58-e8f9-4f44-a908-bdc3f4240c0d"
      },
      "execution_count": 30,
      "outputs": [
        {
          "output_type": "stream",
          "name": "stdout",
          "text": [
            "the square is  [1, 4, 9, 16]\n"
          ]
        }
      ]
    },
    {
      "cell_type": "code",
      "source": [
        "# Project 2: Squaring Even Numbers\n",
        "# Build a program that:\n",
        "\n",
        "# Initializes an empty list for squares.\n",
        "# Uses a for loop to iterate through numbers from 1 to 10.\n",
        "# Checks if the number is divisible by 2 (remainder equals zero).\n",
        "# Appends the square of the number to the list if the condition is met.\n",
        "# Prints the final list of squares.\n",
        "\n",
        "\n",
        "empty =[]\n",
        "for i in range(1,11):\n",
        "  if(i%2==0):\n",
        "    square = i**2\n",
        "    empty.append(square)\n",
        "\n",
        "print(empty)"
      ],
      "metadata": {
        "colab": {
          "base_uri": "https://localhost:8080/"
        },
        "id": "2gn7W9raZwHw",
        "outputId": "618b7a51-c97c-4f6d-fe20-72ed0eac4cfb"
      },
      "execution_count": 41,
      "outputs": [
        {
          "output_type": "stream",
          "name": "stdout",
          "text": [
            "[4, 16, 36, 64, 100]\n"
          ]
        }
      ]
    },
    {
      "cell_type": "code",
      "source": [
        "friends = [\"abdullah\",\"uzair\",\"hamza\",\"abdusamad\",\"abdurrahim\"]\n",
        "for i in friends:\n",
        "  message = (f\"this is the invitation card for {i}\")\n",
        "  print(message)\n",
        "\n",
        "\n"
      ],
      "metadata": {
        "colab": {
          "base_uri": "https://localhost:8080/"
        },
        "id": "DrtXpQUNbEaU",
        "outputId": "4f825334-21d5-4626-81f2-28f0cedf2dae"
      },
      "execution_count": 42,
      "outputs": [
        {
          "output_type": "stream",
          "name": "stdout",
          "text": [
            "this is the invitation card for abdullah\n",
            "this is the invitation card for uzair\n",
            "this is the invitation card for hamza\n",
            "this is the invitation card for abdusamad\n",
            "this is the invitation card for abdurrahim\n"
          ]
        }
      ]
    },
    {
      "cell_type": "code",
      "source": [
        "# Project 7: Multiplication Table\n",
        "# Build a program that:\n",
        "\n",
        "# Prompts the user for a number.\n",
        "# Uses a for loop to display its multiplication table up to 10.\n",
        "# Formats the output neatly.\n",
        "n= int(input(\"enter your number\"))\n",
        "print(f\"this is the table {n}\\n\")\n",
        "\n",
        "for i  in range(1,11):\n",
        "\n",
        "  table = f\"its {n}* {i} ={n * i}\"\n",
        "  print(table)"
      ],
      "metadata": {
        "colab": {
          "base_uri": "https://localhost:8080/"
        },
        "collapsed": true,
        "id": "g2joKJPOcyru",
        "outputId": "cfbf9c19-3e9d-46f1-a71b-d2221808b590"
      },
      "execution_count": 50,
      "outputs": [
        {
          "output_type": "stream",
          "name": "stdout",
          "text": [
            "enter your number87\n",
            "this is the table 87\n",
            "\n",
            "its 87* 1 =87\n",
            "its 87* 2 =174\n",
            "its 87* 3 =261\n",
            "its 87* 4 =348\n",
            "its 87* 5 =435\n",
            "its 87* 6 =522\n",
            "its 87* 7 =609\n",
            "its 87* 8 =696\n",
            "its 87* 9 =783\n",
            "its 87* 10 =870\n"
          ]
        }
      ]
    },
    {
      "cell_type": "code",
      "source": [
        "\n",
        "# Project 6: Countdown Timer\n",
        "# Write a Python script that:\n",
        "\n",
        "# Uses a while loop to implement a countdown timer.\n",
        "# Counts down from a user-defined number to zero.\n",
        "# Prints a message when the countdown reaches zero.\n",
        "\n",
        "counter = int(input(\"enter your number\"))\n",
        "while counter >= 0:\n",
        "  print(counter)\n",
        "  counter -= 1\n",
        "\n",
        "print(\"counteris move down\")"
      ],
      "metadata": {
        "colab": {
          "base_uri": "https://localhost:8080/"
        },
        "collapsed": true,
        "id": "XMk8u1oFeDep",
        "outputId": "3b3450ca-2407-4424-807d-47f719eff948"
      },
      "execution_count": 51,
      "outputs": [
        {
          "output_type": "stream",
          "name": "stdout",
          "text": [
            "enter your number56\n",
            "56\n",
            "55\n",
            "54\n",
            "53\n",
            "52\n",
            "51\n",
            "50\n",
            "49\n",
            "48\n",
            "47\n",
            "46\n",
            "45\n",
            "44\n",
            "43\n",
            "42\n",
            "41\n",
            "40\n",
            "39\n",
            "38\n",
            "37\n",
            "36\n",
            "35\n",
            "34\n",
            "33\n",
            "32\n",
            "31\n",
            "30\n",
            "29\n",
            "28\n",
            "27\n",
            "26\n",
            "25\n",
            "24\n",
            "23\n",
            "22\n",
            "21\n",
            "20\n",
            "19\n",
            "18\n",
            "17\n",
            "16\n",
            "15\n",
            "14\n",
            "13\n",
            "12\n",
            "11\n",
            "10\n",
            "9\n",
            "8\n",
            "7\n",
            "6\n",
            "5\n",
            "4\n",
            "3\n",
            "2\n",
            "1\n",
            "0\n",
            "counteris move down\n"
          ]
        }
      ]
    },
    {
      "cell_type": "code",
      "source": [],
      "metadata": {
        "id": "1r-nCkXCi90R"
      },
      "execution_count": 53,
      "outputs": []
    }
  ]
}